{
 "cells": [
  {
   "cell_type": "code",
   "execution_count": null,
   "metadata": {},
   "outputs": [],
   "source": [
    "import numpy as np\n",
    "import matplotlib.pyplot as plt\n",
    "from bresenham import bresenham\n",
    "import imageio"
   ]
  },
  {
   "cell_type": "code",
   "execution_count": null,
   "metadata": {},
   "outputs": [],
   "source": [
    "alfa = 1\n",
    "n = 150\n",
    "l = 90"
   ]
  },
  {
   "cell_type": "code",
   "execution_count": null,
   "metadata": {},
   "outputs": [],
   "source": [
    "\"\"\"\n",
    "Obliczanie współrzędnych (x, y) i-tego z n emiterów na okręgu o promieniu r i rozpiętości l. \n",
    "Pamiętaj o tym, że środek okręgu jest środkiem obrazu (offset)\n",
    "W przypadku układu z jednym emiterem, funkcja powinna być niezależna od i oraz n\n",
    "Pamiętaj o ewentualnej konwersji stopnie -> radiany\n",
    "http://www.cs.put.poznan.pl/swilk/pmwiki/uploads/Dydaktyka/tomograf-wzory.pdf\n",
    "\"\"\"\n",
    "def emiterPosition(angle, i, n, r, l, offset):\n",
    "    return (int(0), int(0))"
   ]
  },
  {
   "cell_type": "code",
   "execution_count": null,
   "metadata": {},
   "outputs": [],
   "source": [
    "\"\"\"\n",
    "Obliczanie współrzędnych (x, y) i-tego z n sensorów na okręgu o promieniu r i rozpiętości l.\n",
    "Pamiętaj o tym, że środek okręgu jest środkiem obrazu (offset)\n",
    "http://www.cs.put.poznan.pl/swilk/pmwiki/uploads/Dydaktyka/tomograf-wzory.pdf\n",
    "\"\"\"\n",
    "def sensorPosition(angle, i, n, r, l, offset):\n",
    "    return (int(0), int(0))"
   ]
  },
  {
   "cell_type": "code",
   "execution_count": null,
   "metadata": {},
   "outputs": [],
   "source": [
    "\"\"\"\n",
    "Symulacja laseru przechodzącego liniowo przez obraz image z punktu start do punktu end.\n",
    "Należy policzyć, ile mocy lasera zostanie pochłonięte, skorzystaj z funkcji bresenham\n",
    "\"\"\"\n",
    "def beam(image, start, end):\n",
    "    return 0"
   ]
  },
  {
   "cell_type": "code",
   "execution_count": null,
   "metadata": {},
   "outputs": [],
   "source": [
    "def makeGif(gif, filename):\n",
    "    scale = gif[-1].max()\n",
    "    gif = list(map(lambda x: (x/scale*255).astype(np.uint8), gif))\n",
    "    imageio.mimsave(filename+\".gif\", gif)"
   ]
  },
  {
   "cell_type": "code",
   "execution_count": null,
   "metadata": {},
   "outputs": [],
   "source": [
    "def radon_iwm(img_gray, alfa, n, l, R):   \n",
    "    gif = []\n",
    "    result = np.zeros((n, len(np.arange(-90,90,alfa))))\n",
    "    for i,angle in enumerate(np.arange(-90,90,alfa)[::-1]):\n",
    "        result[..., i] = np.array([beam(img_gray, \n",
    "                                         emiterPosition(angle, sensor, n, R, l, (img_gray.shape[1]/2, img_gray.shape[0]/2)),\n",
    "                                         sensorPosition(angle, sensor, n, R, l, (img_gray.shape[1]/2, img_gray.shape[0]/2)))\n",
    "                                   for sensor in range(n)])\n",
    "        gif.append(result.copy())\n",
    "    makeGif(gif, \"radon\")\n",
    "    return result/result.max()"
   ]
  },
  {
   "cell_type": "code",
   "execution_count": null,
   "metadata": {},
   "outputs": [],
   "source": [
    "def inverseRadon_iwn(radon, shape, alfa, n, l, R):\n",
    "    gif = []\n",
    "    result = np.zeros(shape)\n",
    "    R = max(shape)*2**.5+10\n",
    "    for i, angle in enumerate(np.arange(-90,90,alfa)[::-1]):\n",
    "        for sensor in range(n):\n",
    "            start = emiterPosition(angle, sensor, n, R, l, (shape[1]/2, shape[0]/2))\n",
    "            end = sensorPosition(angle, sensor, n, R, l, (shape[1]/2, shape[0]/2))\n",
    "            \"\"\"\n",
    "            Wykorzystaj algorythm Bresenhama, aby znaleźć współrzędne pikseli na obrazie.\n",
    "            Uwzględnij na tych pozycjach wartość, która została zwrócona kiedy laser przechodził przez obraz\n",
    "            \"\"\"\n",
    "            \n",
    "        gif.append(result.copy())\n",
    "    makeGif(gif, \"inverse\")\n",
    "    return result/result.max()"
   ]
  },
  {
   "cell_type": "code",
   "execution_count": null,
   "metadata": {},
   "outputs": [],
   "source": [
    "def projekt1(file, alfa, n, l):\n",
    "    img = plt.imread(file)\n",
    "    img_gray = img[...,0]\n",
    "    plt.imshow(img_gray)\n",
    "    R = max(img_gray.shape)*2**.5+10 \n",
    "    radon = radon_iwm(img_gray, alfa, n, l, R)\n",
    "    plt.imshow(radon)\n",
    "    plt.show()\n",
    "    iradon = inverseRadon_iwn(radon, img_gray.shape, alfa, n, l, R)\n",
    "    plt.imshow(iradon)\n",
    "    plt.show()\n",
    "    return iradon"
   ]
  },
  {
   "cell_type": "code",
   "execution_count": null,
   "metadata": {},
   "outputs": [],
   "source": [
    "projekt1(\"Kropka.jpg\", alfa, n, l)"
   ]
  },
  {
   "cell_type": "code",
   "execution_count": null,
   "metadata": {},
   "outputs": [],
   "source": []
  }
 ],
 "metadata": {
  "kernelspec": {
   "display_name": "Python 3",
   "language": "python",
   "name": "python3"
  },
  "language_info": {
   "codemirror_mode": {
    "name": "ipython",
    "version": 3
   },
   "file_extension": ".py",
   "mimetype": "text/x-python",
   "name": "python",
   "nbconvert_exporter": "python",
   "pygments_lexer": "ipython3",
   "version": "3.6.9"
  }
 },
 "nbformat": 4,
 "nbformat_minor": 2
}
