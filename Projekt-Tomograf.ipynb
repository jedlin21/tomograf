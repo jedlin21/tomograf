{
 "cells": [
  {
   "cell_type": "code",
   "execution_count": 39,
   "metadata": {},
   "outputs": [],
   "source": [
    "import numpy as np\n",
    "import matplotlib.pyplot as plt\n",
    "from bresenham import bresenham\n",
    "import imageio\n",
    "import pydicom\n",
    "from pydicom.data import get_testdata_files"
   ]
  },
  {
   "cell_type": "code",
   "execution_count": 29,
   "metadata": {},
   "outputs": [],
   "source": [
    "alfa = 1\n",
    "n = 250\n",
    "l = 90"
   ]
  },
  {
   "cell_type": "code",
   "execution_count": 30,
   "metadata": {},
   "outputs": [],
   "source": [
    "\"\"\"\n",
    "Obliczanie współrzędnych (x, y) i-tego z n emiterów na okręgu o promieniu r i rozpiętości l. \n",
    "Pamiętaj o tym, że środek okręgu jest środkiem obrazu (offset)\n",
    "W przypadku układu z jednym emiterem, funkcja powinna być niezależna od i oraz n\n",
    "Pamiętaj o ewentualnej konwersji stopnie -> radiany\n",
    "http://www.cs.put.poznan.pl/swilk/pmwiki/uploads/Dydaktyka/tomograf-wzory.pdf\n",
    "\"\"\"\n",
    "def emiterPosition(angle, i, n, r, l, offset):\n",
    "    x = r * np.cos( np.radians(angle) ) + offset[0]\n",
    "    y = r * np.sin( np.radians(angle) ) + offset[1]\n",
    "    return (x,y)"
   ]
  },
  {
   "cell_type": "code",
   "execution_count": 31,
   "metadata": {},
   "outputs": [],
   "source": [
    "\"\"\"\n",
    "Obliczanie współrzędnych (x, y) i-tego z n sensorów na okręgu o promieniu r i rozpiętości l.\n",
    "Pamiętaj o tym, że środek okręgu jest środkiem obrazu (offset)\n",
    "http://www.cs.put.poznan.pl/swilk/pmwiki/uploads/Dydaktyka/tomograf-wzory.pdf\n",
    "\"\"\"\n",
    "def sensorPosition(angle, i, n, r, l, offset):\n",
    "    x = r * np.cos( np.radians(angle) + np.pi - np.radians(l)/2 + i * ( np.radians(l) / (n-1) ) ) + offset[0]\n",
    "    y = r * np.sin( np.radians(angle) + np.pi - np.radians(l)/2 + i * ( np.radians(l) / (n-1) ) ) + offset[1]\n",
    "    return (x,y)"
   ]
  },
  {
   "cell_type": "code",
   "execution_count": 32,
   "metadata": {},
   "outputs": [],
   "source": [
    "\"\"\"\n",
    "Symulacja laseru przechodzącego liniowo przez obraz image z punktu start do punktu end.\n",
    "Należy policzyć, ile mocy lasera zostanie pochłonięte, skorzystaj z funkcji bresenham\n",
    "\"\"\"\n",
    "def beam(image, start, end):\n",
    "    width, height = image.shape\n",
    "    x = bresenham(int(start[0]), int(start[1]), int(end[0]), int(end[1]))\n",
    "    y = np.array(list(x))\n",
    "    y = y[y[:,0] >= 0]\n",
    "    y = y[y[:,0] < width]\n",
    "    y = y[y[:,1] >= 0]\n",
    "    y = y[y[:,1] < height]\n",
    "    return np.sum(image[y[:,0],y[:,1]])"
   ]
  },
  {
   "cell_type": "code",
   "execution_count": 33,
   "metadata": {},
   "outputs": [],
   "source": [
    "def makeGif(gif, filename):\n",
    "    scale = gif[-1].max()\n",
    "    gif = list(map(lambda x: (x/scale*255).astype(np.uint8), gif))\n",
    "    imageio.mimsave(filename+\".gif\", gif)"
   ]
  },
  {
   "cell_type": "code",
   "execution_count": 34,
   "metadata": {},
   "outputs": [],
   "source": [
    "def radon_iwm(img_gray, alfa, n, l, R):   \n",
    "    gif = []\n",
    "    result = np.zeros((n, len(np.arange(-90,90,alfa))))\n",
    "    for i,angle in enumerate(np.arange(-90,90,alfa)[::-1]):\n",
    "        result[..., i] = np.array([beam(img_gray, \n",
    "                                         emiterPosition(angle, sensor, n, R, l, (img_gray.shape[1]/2, img_gray.shape[0]/2)),\n",
    "                                         sensorPosition(angle, sensor, n, R, l, (img_gray.shape[1]/2, img_gray.shape[0]/2)))\n",
    "                                   for sensor in range(n)])\n",
    "        \n",
    "        if angle % 10 == 0:\n",
    "            print(f\"angle {angle}\")\n",
    "        gif.append(result.copy())\n",
    "    makeGif(gif, \"radon\")\n",
    "    return result/result.max()"
   ]
  },
  {
   "cell_type": "code",
   "execution_count": 35,
   "metadata": {},
   "outputs": [],
   "source": [
    "def radon_iwm2(img_gray, alfa, n, l, R):   \n",
    "    result = np.zeros((n, len(np.arange(-90,90,alfa))))\n",
    "    for i,angle in enumerate(np.arange(-90,90,alfa)[::-1]):\n",
    "        y = [(emiterPosition(angle, sensor, n, R, l, (img_gray.shape[1]/2, img_gray.shape[0]/2)),\n",
    "                                         sensorPosition(angle, sensor, n, R, l, (img_gray.shape[1]/2, img_gray.shape[0]/2)))\n",
    "                                   for sensor in range(n)]\n",
    "        plt.imshow(img_gray)\n",
    "        #y = np.array(y)\n",
    "        #x = y[:,0]\n",
    "        #y = y[:,1]\n",
    "        #plt.plot(x[:,0], x[:,1], \"*\")\n",
    "        #plt.plot(y[:,0], y[:,1], \".\")\n",
    "        #plt.show()\n",
    "        #if angle % 10 == 0:\n",
    "            #print(f\"angle {angle}\")\n",
    "        \n",
    "    \n",
    "    return 0"
   ]
  },
  {
   "cell_type": "code",
   "execution_count": 36,
   "metadata": {},
   "outputs": [],
   "source": [
    "def inverseRadon_iwn(radon, shape, alfa, n, l, R):\n",
    "    width, height = shape\n",
    "    gif = []\n",
    "    result = np.zeros(shape)\n",
    "    R = max(shape)*2**.5+10\n",
    "    for i, angle in enumerate(np.arange(-90,90,alfa)[::-1]):\n",
    "        for sensor in range(n):\n",
    "            start = emiterPosition(angle, sensor, n, R, l, (shape[1]/2, shape[0]/2))\n",
    "            end = sensorPosition(angle, sensor, n, R, l, (shape[1]/2, shape[0]/2))\n",
    "            \"\"\"\n",
    "            Wykorzystaj algorythm Bresenhama, aby znaleźć współrzędne pikseli na obrazie.\n",
    "            Uwzględnij na tych pozycjach wartość, która została zwrócona kiedy laser przechodził przez obraz\n",
    "            \"\"\"\n",
    "            x = bresenham(int(start[0]), int(start[1]), int(end[0]), int(end[1]))\n",
    "            y = np.array(list(x))\n",
    "            y = y[y[:,0] >= 0]\n",
    "            y = y[y[:,0] < width]\n",
    "            y = y[y[:,1] >= 0]\n",
    "            y = y[y[:,1] < height]\n",
    "            \n",
    "            \n",
    "            result[y[:,0], y[:,1]] += radon[sensor][i]\n",
    "        \n",
    "        if angle % 10 == 0:\n",
    "            print(f\"angle {angle}\")\n",
    "        gif.append(result.copy())\n",
    "    makeGif(gif, \"inverse\")\n",
    "    return result/result.max()"
   ]
  },
  {
   "cell_type": "code",
   "execution_count": 40,
   "metadata": {},
   "outputs": [],
   "source": [
    "def projekt1(file, alfa, n, l):\n",
    "    img = plt.imread(file)\n",
    "    img_gray = img[...,0]\n",
    "    print(img_gray)\n",
    "    plt.imshow(img_gray)\n",
    "    print(f\"imgshape {img_gray.shape}\")\n",
    "    R = (max(img_gray.shape)/2)*2**.5+10 \n",
    "    radon = radon_iwm(img_gray, alfa, n, l, R)\n",
    "    plt.imshow(radon, cmap=plt.cm.bone)\n",
    "    plt.show()\n",
    "    iradon = inverseRadon_iwn(radon, img_gray.shape, alfa, n, l, R)\n",
    "    print(iradon)\n",
    "    plt.imshow(iradon, cmap=plt.cm.bone)\n",
    "    plt.show()\n",
    "    return iradon"
   ]
  },
  {
   "cell_type": "code",
   "execution_count": null,
   "metadata": {},
   "outputs": [],
   "source": [
    "def load_scan(path):\n",
    "    slices = [pydicom.dcmread(path + ‘/’ + s) for s in               \n",
    "              os.listdir(path)]\n",
    "    slices = [s for s in slices if ‘SliceLocation’ in s]\n",
    "    slices.sort(key = lambda x: int(x.InstanceNumber))\n",
    "    try:\n",
    "        slice_thickness = np.abs(slices[0].ImagePositionPatient[2] —   \n",
    "                          slices[1].ImagePositionPatient[2])\n",
    "    except:\n",
    "    slice_thickness = np.abs(slices[0].SliceLocation — \n",
    "                      slices[1].SliceLocation)\n",
    "    for s in slices:\n",
    "        s.SliceThickness = slice_thickness\n",
    "    return slices\n",
    "def get_pixels_hu(scans):\n",
    "    image = np.stack([s.pixel_array for s in scans])\n",
    "    image = image.astype(np.int16)\n",
    "    # Set outside-of-scan pixels to 0\n",
    "    # The intercept is usually -1024, so air is approximately 0\n",
    "    image[image == -2000] = 0\n",
    "    \n",
    "    # Convert to Hounsfield units (HU)\n",
    "    intercept = scans[0].RescaleIntercept\n",
    "    slope = scans[0].RescaleSlope\n",
    "    \n",
    "    if slope != 1:\n",
    "        image = slope * image.astype(np.float64)\n",
    "        image = image.astype(np.int16)\n",
    "        \n",
    "    image += np.int16(intercept)\n",
    "    \n",
    "    return np.array(image, dtype=np.int16)"
   ]
  },
  {
   "cell_type": "code",
   "execution_count": 41,
   "metadata": {},
   "outputs": [],
   "source": [
    "filename = \"example.dicom\"\n",
    "patient_name = \"Jan\"\n",
    "patient_surname = \"Kowalski\"\n",
    "study_date = \"20040119\"\n",
    "comments = \"Pacjent przezyl\""
   ]
  },
  {
   "cell_type": "code",
   "execution_count": null,
   "metadata": {},
   "outputs": [
    {
     "name": "stdout",
     "output_type": "stream",
     "text": [
      "[[0 0 0 ... 0 0 0]\n",
      " [0 0 0 ... 0 0 0]\n",
      " [0 0 0 ... 0 0 0]\n",
      " ...\n",
      " [0 0 0 ... 0 0 0]\n",
      " [0 0 0 ... 0 0 0]\n",
      " [0 0 0 ... 0 0 0]]\n",
      "imgshape (1024, 1024)\n",
      "angle 80\n",
      "angle 70\n",
      "angle 60\n",
      "angle 50\n",
      "angle 40\n",
      "angle 30\n",
      "angle 20\n",
      "angle 10\n",
      "angle 0\n",
      "angle -10\n",
      "angle -20\n",
      "angle -30\n",
      "angle -40\n",
      "angle -50\n",
      "angle -60\n",
      "angle -70\n",
      "angle -80\n",
      "angle -90\n"
     ]
    },
    {
     "data": {
      "image/png": "[encoded data removed]",
      "text/plain": [
       "<Figure size 432x288 with 1 Axes>"
      ]
     },
     "metadata": {
      "needs_background": "light"
     },
     "output_type": "display_data"
    },
    {
     "name": "stdout",
     "output_type": "stream",
     "text": [
      "angle 80\n",
      "angle 70\n",
      "angle 60\n",
      "angle 50\n",
      "angle 40\n",
      "angle 30\n",
      "angle 20\n"
     ]
    }
   ],
   "source": [
    "\n",
    "#dataset = pydicom.dcmread(filename)\n",
    "projekt1(\"Shepp_logan.jpg\", alfa, n, l)"
   ]
  },
  {
   "cell_type": "code",
   "execution_count": null,
   "metadata": {},
   "outputs": [],
   "source": []
  },
  {
   "cell_type": "code",
   "execution_count": null,
   "metadata": {},
   "outputs": [],
   "source": []
  },
  {
   "cell_type": "code",
   "execution_count": null,
   "metadata": {},
   "outputs": [],
   "source": []
  }
 ],
 "metadata": {
  "kernelspec": {
   "display_name": "Python 3",
   "language": "python",
   "name": "python3"
  },
  "language_info": {
   "codemirror_mode": {
    "name": "ipython",
    "version": 3
   },
   "file_extension": ".py",
   "mimetype": "text/x-python",
   "name": "python",
   "nbconvert_exporter": "python",
   "pygments_lexer": "ipython3",
   "version": "3.6.9"
  }
 },
 "nbformat": 4,
 "nbformat_minor": 2
}
